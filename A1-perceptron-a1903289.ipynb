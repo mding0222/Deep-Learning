{
 "cells": [
  {
   "cell_type": "markdown",
   "id": "8285d3ae",
   "metadata": {},
   "source": [
    "## Assignment 1: Deep Learning Fundamentals -- Perceptron\n"
   ]
  },
  {
   "cell_type": "markdown",
   "id": "601a447d",
   "metadata": {},
   "source": [
    "This assignment is aimed at predicting diabiets using Pima Indian Diabiets dataset."
   ]
  },
  {
   "cell_type": "code",
   "execution_count": 1,
   "id": "f6a91035",
   "metadata": {},
   "outputs": [],
   "source": [
    "# Importing libraries. \n",
    "import numpy as np\n",
    "import matplotlib.pyplot as plt\n",
    "import pandas as pd\n",
    "import seaborn as sns\n",
    "import torch\n",
    "\n",
    "from sklearn.datasets import load_svmlight_file\n",
    "from sklearn.model_selection import train_test_split\n",
    "\n",
    "\n",
    "import torch.nn as nn\n",
    "import torch.optim as optim\n",
    "from torch.utils.data import DataLoader, TensorDataset\n",
    "\n",
    "\n",
    "# Avoid non-essential warnings \n",
    "# import warnings\n",
    "# warnings.filterwarnings('ignore')\n"
   ]
  },
  {
   "cell_type": "markdown",
   "id": "305e35c9",
   "metadata": {},
   "source": [
    "### 1 Data Loading and Pre-processing"
   ]
  },
  {
   "cell_type": "markdown",
   "id": "d4c7eede",
   "metadata": {},
   "source": [
    "Load the original data to explore the distribution of each feature and label."
   ]
  },
  {
   "cell_type": "code",
   "execution_count": 2,
   "id": "074cdb49",
   "metadata": {},
   "outputs": [],
   "source": [
    "data = pd.read_csv(\"diabetes.csv\")"
   ]
  },
  {
   "cell_type": "code",
   "execution_count": 3,
   "id": "8e4ada44",
   "metadata": {},
   "outputs": [
    {
     "data": {
      "text/html": [
       "<div>\n",
       "<style scoped>\n",
       "    .dataframe tbody tr th:only-of-type {\n",
       "        vertical-align: middle;\n",
       "    }\n",
       "\n",
       "    .dataframe tbody tr th {\n",
       "        vertical-align: top;\n",
       "    }\n",
       "\n",
       "    .dataframe thead th {\n",
       "        text-align: right;\n",
       "    }\n",
       "</style>\n",
       "<table border=\"1\" class=\"dataframe\">\n",
       "  <thead>\n",
       "    <tr style=\"text-align: right;\">\n",
       "      <th></th>\n",
       "      <th>Pregnancies</th>\n",
       "      <th>Glucose</th>\n",
       "      <th>BloodPressure</th>\n",
       "      <th>SkinThickness</th>\n",
       "      <th>Insulin</th>\n",
       "      <th>BMI</th>\n",
       "      <th>DiabetesPedigreeFunction</th>\n",
       "      <th>Age</th>\n",
       "      <th>Outcome</th>\n",
       "    </tr>\n",
       "  </thead>\n",
       "  <tbody>\n",
       "    <tr>\n",
       "      <th>0</th>\n",
       "      <td>6</td>\n",
       "      <td>148</td>\n",
       "      <td>72</td>\n",
       "      <td>35</td>\n",
       "      <td>0</td>\n",
       "      <td>33.6</td>\n",
       "      <td>0.627</td>\n",
       "      <td>50</td>\n",
       "      <td>1</td>\n",
       "    </tr>\n",
       "    <tr>\n",
       "      <th>1</th>\n",
       "      <td>1</td>\n",
       "      <td>85</td>\n",
       "      <td>66</td>\n",
       "      <td>29</td>\n",
       "      <td>0</td>\n",
       "      <td>26.6</td>\n",
       "      <td>0.351</td>\n",
       "      <td>31</td>\n",
       "      <td>0</td>\n",
       "    </tr>\n",
       "    <tr>\n",
       "      <th>2</th>\n",
       "      <td>8</td>\n",
       "      <td>183</td>\n",
       "      <td>64</td>\n",
       "      <td>0</td>\n",
       "      <td>0</td>\n",
       "      <td>23.3</td>\n",
       "      <td>0.672</td>\n",
       "      <td>32</td>\n",
       "      <td>1</td>\n",
       "    </tr>\n",
       "    <tr>\n",
       "      <th>3</th>\n",
       "      <td>1</td>\n",
       "      <td>89</td>\n",
       "      <td>66</td>\n",
       "      <td>23</td>\n",
       "      <td>94</td>\n",
       "      <td>28.1</td>\n",
       "      <td>0.167</td>\n",
       "      <td>21</td>\n",
       "      <td>0</td>\n",
       "    </tr>\n",
       "    <tr>\n",
       "      <th>4</th>\n",
       "      <td>0</td>\n",
       "      <td>137</td>\n",
       "      <td>40</td>\n",
       "      <td>35</td>\n",
       "      <td>168</td>\n",
       "      <td>43.1</td>\n",
       "      <td>2.288</td>\n",
       "      <td>33</td>\n",
       "      <td>1</td>\n",
       "    </tr>\n",
       "  </tbody>\n",
       "</table>\n",
       "</div>"
      ],
      "text/plain": [
       "   Pregnancies  Glucose  BloodPressure  SkinThickness  Insulin   BMI  \\\n",
       "0            6      148             72             35        0  33.6   \n",
       "1            1       85             66             29        0  26.6   \n",
       "2            8      183             64              0        0  23.3   \n",
       "3            1       89             66             23       94  28.1   \n",
       "4            0      137             40             35      168  43.1   \n",
       "\n",
       "   DiabetesPedigreeFunction  Age  Outcome  \n",
       "0                     0.627   50        1  \n",
       "1                     0.351   31        0  \n",
       "2                     0.672   32        1  \n",
       "3                     0.167   21        0  \n",
       "4                     2.288   33        1  "
      ]
     },
     "execution_count": 3,
     "metadata": {},
     "output_type": "execute_result"
    }
   ],
   "source": [
    "data.head()"
   ]
  },
  {
   "cell_type": "code",
   "execution_count": 4,
   "id": "32e17a89",
   "metadata": {},
   "outputs": [
    {
     "name": "stdout",
     "output_type": "stream",
     "text": [
      "<class 'pandas.core.frame.DataFrame'>\n",
      "RangeIndex: 768 entries, 0 to 767\n",
      "Data columns (total 9 columns):\n",
      " #   Column                    Non-Null Count  Dtype  \n",
      "---  ------                    --------------  -----  \n",
      " 0   Pregnancies               768 non-null    int64  \n",
      " 1   Glucose                   768 non-null    int64  \n",
      " 2   BloodPressure             768 non-null    int64  \n",
      " 3   SkinThickness             768 non-null    int64  \n",
      " 4   Insulin                   768 non-null    int64  \n",
      " 5   BMI                       768 non-null    float64\n",
      " 6   DiabetesPedigreeFunction  768 non-null    float64\n",
      " 7   Age                       768 non-null    int64  \n",
      " 8   Outcome                   768 non-null    int64  \n",
      "dtypes: float64(2), int64(7)\n",
      "memory usage: 54.1 KB\n"
     ]
    }
   ],
   "source": [
    "data.info()"
   ]
  },
  {
   "cell_type": "markdown",
   "id": "2348149b",
   "metadata": {},
   "source": [
    "There is no Nan value of the dataset and all features are numerical."
   ]
  },
  {
   "cell_type": "code",
   "execution_count": 5,
   "id": "4f6049ab",
   "metadata": {},
   "outputs": [],
   "source": [
    "# Extract the feature names and label names\n",
    "features = data.columns[:-1] \n",
    "labels  = data.columns[-1]"
   ]
  },
  {
   "cell_type": "code",
   "execution_count": 6,
   "id": "6787ba76",
   "metadata": {},
   "outputs": [
    {
     "data": {
      "text/html": [
       "<div>\n",
       "<style scoped>\n",
       "    .dataframe tbody tr th:only-of-type {\n",
       "        vertical-align: middle;\n",
       "    }\n",
       "\n",
       "    .dataframe tbody tr th {\n",
       "        vertical-align: top;\n",
       "    }\n",
       "\n",
       "    .dataframe thead th {\n",
       "        text-align: right;\n",
       "    }\n",
       "</style>\n",
       "<table border=\"1\" class=\"dataframe\">\n",
       "  <thead>\n",
       "    <tr style=\"text-align: right;\">\n",
       "      <th></th>\n",
       "      <th>Pregnancies</th>\n",
       "      <th>Glucose</th>\n",
       "      <th>BloodPressure</th>\n",
       "      <th>SkinThickness</th>\n",
       "      <th>Insulin</th>\n",
       "      <th>BMI</th>\n",
       "      <th>DiabetesPedigreeFunction</th>\n",
       "      <th>Age</th>\n",
       "      <th>Outcome</th>\n",
       "    </tr>\n",
       "  </thead>\n",
       "  <tbody>\n",
       "    <tr>\n",
       "      <th>count</th>\n",
       "      <td>768.000000</td>\n",
       "      <td>768.000000</td>\n",
       "      <td>768.000000</td>\n",
       "      <td>768.000000</td>\n",
       "      <td>768.000000</td>\n",
       "      <td>768.000000</td>\n",
       "      <td>768.000000</td>\n",
       "      <td>768.000000</td>\n",
       "      <td>768.000000</td>\n",
       "    </tr>\n",
       "    <tr>\n",
       "      <th>mean</th>\n",
       "      <td>3.845052</td>\n",
       "      <td>120.894531</td>\n",
       "      <td>69.105469</td>\n",
       "      <td>20.536458</td>\n",
       "      <td>79.799479</td>\n",
       "      <td>31.992578</td>\n",
       "      <td>0.471876</td>\n",
       "      <td>33.240885</td>\n",
       "      <td>0.348958</td>\n",
       "    </tr>\n",
       "    <tr>\n",
       "      <th>std</th>\n",
       "      <td>3.369578</td>\n",
       "      <td>31.972618</td>\n",
       "      <td>19.355807</td>\n",
       "      <td>15.952218</td>\n",
       "      <td>115.244002</td>\n",
       "      <td>7.884160</td>\n",
       "      <td>0.331329</td>\n",
       "      <td>11.760232</td>\n",
       "      <td>0.476951</td>\n",
       "    </tr>\n",
       "    <tr>\n",
       "      <th>min</th>\n",
       "      <td>0.000000</td>\n",
       "      <td>0.000000</td>\n",
       "      <td>0.000000</td>\n",
       "      <td>0.000000</td>\n",
       "      <td>0.000000</td>\n",
       "      <td>0.000000</td>\n",
       "      <td>0.078000</td>\n",
       "      <td>21.000000</td>\n",
       "      <td>0.000000</td>\n",
       "    </tr>\n",
       "    <tr>\n",
       "      <th>25%</th>\n",
       "      <td>1.000000</td>\n",
       "      <td>99.000000</td>\n",
       "      <td>62.000000</td>\n",
       "      <td>0.000000</td>\n",
       "      <td>0.000000</td>\n",
       "      <td>27.300000</td>\n",
       "      <td>0.243750</td>\n",
       "      <td>24.000000</td>\n",
       "      <td>0.000000</td>\n",
       "    </tr>\n",
       "    <tr>\n",
       "      <th>50%</th>\n",
       "      <td>3.000000</td>\n",
       "      <td>117.000000</td>\n",
       "      <td>72.000000</td>\n",
       "      <td>23.000000</td>\n",
       "      <td>30.500000</td>\n",
       "      <td>32.000000</td>\n",
       "      <td>0.372500</td>\n",
       "      <td>29.000000</td>\n",
       "      <td>0.000000</td>\n",
       "    </tr>\n",
       "    <tr>\n",
       "      <th>75%</th>\n",
       "      <td>6.000000</td>\n",
       "      <td>140.250000</td>\n",
       "      <td>80.000000</td>\n",
       "      <td>32.000000</td>\n",
       "      <td>127.250000</td>\n",
       "      <td>36.600000</td>\n",
       "      <td>0.626250</td>\n",
       "      <td>41.000000</td>\n",
       "      <td>1.000000</td>\n",
       "    </tr>\n",
       "    <tr>\n",
       "      <th>max</th>\n",
       "      <td>17.000000</td>\n",
       "      <td>199.000000</td>\n",
       "      <td>122.000000</td>\n",
       "      <td>99.000000</td>\n",
       "      <td>846.000000</td>\n",
       "      <td>67.100000</td>\n",
       "      <td>2.420000</td>\n",
       "      <td>81.000000</td>\n",
       "      <td>1.000000</td>\n",
       "    </tr>\n",
       "  </tbody>\n",
       "</table>\n",
       "</div>"
      ],
      "text/plain": [
       "       Pregnancies     Glucose  BloodPressure  SkinThickness     Insulin  \\\n",
       "count   768.000000  768.000000     768.000000     768.000000  768.000000   \n",
       "mean      3.845052  120.894531      69.105469      20.536458   79.799479   \n",
       "std       3.369578   31.972618      19.355807      15.952218  115.244002   \n",
       "min       0.000000    0.000000       0.000000       0.000000    0.000000   \n",
       "25%       1.000000   99.000000      62.000000       0.000000    0.000000   \n",
       "50%       3.000000  117.000000      72.000000      23.000000   30.500000   \n",
       "75%       6.000000  140.250000      80.000000      32.000000  127.250000   \n",
       "max      17.000000  199.000000     122.000000      99.000000  846.000000   \n",
       "\n",
       "              BMI  DiabetesPedigreeFunction         Age     Outcome  \n",
       "count  768.000000                768.000000  768.000000  768.000000  \n",
       "mean    31.992578                  0.471876   33.240885    0.348958  \n",
       "std      7.884160                  0.331329   11.760232    0.476951  \n",
       "min      0.000000                  0.078000   21.000000    0.000000  \n",
       "25%     27.300000                  0.243750   24.000000    0.000000  \n",
       "50%     32.000000                  0.372500   29.000000    0.000000  \n",
       "75%     36.600000                  0.626250   41.000000    1.000000  \n",
       "max     67.100000                  2.420000   81.000000    1.000000  "
      ]
     },
     "execution_count": 6,
     "metadata": {},
     "output_type": "execute_result"
    }
   ],
   "source": [
    "data.describe()"
   ]
  },
  {
   "cell_type": "code",
   "execution_count": 7,
   "id": "bc0cbf2f",
   "metadata": {},
   "outputs": [
    {
     "data": {
      "image/png": "[encoded data removed]",
      "text/plain": [
       "<Figure size 1080x720 with 9 Axes>"
      ]
     },
     "metadata": {
      "needs_background": "light"
     },
     "output_type": "display_data"
    }
   ],
   "source": [
    "data_hist = data.hist(bins=40, figsize=(15, 10))"
   ]
  },
  {
   "cell_type": "code",
   "execution_count": 8,
   "id": "8e0048fa",
   "metadata": {},
   "outputs": [],
   "source": [
    "def bar_plot(axes, feature, index):\n",
    "    sns.boxplot(x=data[feature], ax=axes[index // 2, index % 2])\n",
    "    axes[index // 2, index % 2].set_xlabel(feature)"
   ]
  },
  {
   "cell_type": "code",
   "execution_count": 9,
   "id": "6dbb4619",
   "metadata": {},
   "outputs": [
    {
     "data": {
      "image/png": "[encoded data removed]",
      "text/plain": [
       "<Figure size 1296x1008 with 8 Axes>"
      ]
     },
     "metadata": {
      "needs_background": "light"
     },
     "output_type": "display_data"
    }
   ],
   "source": [
    "fig, axes = plt.subplots(4, 2, figsize=(18, 14))\n",
    "\n",
    "for idx, feature in enumerate(features):\n",
    "    bar_plot(axes, feature, idx)"
   ]
  },
  {
   "cell_type": "markdown",
   "id": "701f25ab",
   "metadata": {},
   "source": [
    "It is obvious that most features of this dataset are left or right skewed with some ouliers. The dataset need to be cleaned. "
   ]
  },
  {
   "cell_type": "code",
   "execution_count": 10,
   "id": "eccfd60e",
   "metadata": {},
   "outputs": [
    {
     "data": {
      "image/png": "[encoded data removed]",
      "text/plain": [
       "<Figure size 720x576 with 2 Axes>"
      ]
     },
     "metadata": {
      "needs_background": "light"
     },
     "output_type": "display_data"
    }
   ],
   "source": [
    "correlation_matrix = data.corr()  \n",
    "plt.figure(figsize=(10, 8))\n",
    "sns.heatmap(correlation_matrix, annot=True, cmap='coolwarm')  \n",
    "plt.title('Correlation Matrix')  \n",
    "plt.show()"
   ]
  },
  {
   "cell_type": "markdown",
   "id": "0d71a7a7",
   "metadata": {},
   "source": [
    "It is shown in the correlation matrix that skinthickness and bloodpressure has the lowest correlation with the outcome. In the expirement following, we could consider to drop out these two features as they might not infect the result."
   ]
  },
  {
   "cell_type": "markdown",
   "id": "527d3b9f",
   "metadata": {},
   "source": [
    "Use cleaned and scaled data for further processing.  \n",
    "  \n",
    "Normally, data scaling should be applied after splitting the data to avoid data leaking. In this case, as the dataset has been scaled into -1 and 1 using StandardScaler. And we need to assume the valid and test data are all the same distribution of train dataset. And the scaled data is recommended. So this data leakage can be ignored in this case.  \n",
    "  \n",
    "Convert -1 in y to 0 so that the labels match the expected output of the sigmoid function (0 or 1)\n"
   ]
  },
  {
   "cell_type": "code",
   "execution_count": 11,
   "id": "2a4ac1e8",
   "metadata": {},
   "outputs": [],
   "source": [
    "X, y = load_svmlight_file('diabetes_scale.txt')\n",
    "y = np.where(y == -1, 0, y)"
   ]
  },
  {
   "cell_type": "markdown",
   "id": "dc868fa3",
   "metadata": {},
   "source": [
    "### 2. Dataset Splitting"
   ]
  },
  {
   "cell_type": "code",
   "execution_count": 12,
   "id": "36140d7c",
   "metadata": {},
   "outputs": [],
   "source": [
    "# Split the data set into train, valid and test with proportion of 70%, 15%, 15%.\n",
    "X_train_full, X_test, y_train_full, y_test = train_test_split(X, y, test_size=0.15, random_state=42)\n",
    "X_train, X_valid, y_train, y_valid = train_test_split(X_train_full, y_train_full, test_size=0.1765, random_state=42)\n"
   ]
  },
  {
   "cell_type": "code",
   "execution_count": 13,
   "id": "dcb6d9b6",
   "metadata": {},
   "outputs": [
    {
     "data": {
      "image/png": "[encoded data removed]",
      "text/plain": [
       "<Figure size 1296x360 with 3 Axes>"
      ]
     },
     "metadata": {
      "needs_background": "light"
     },
     "output_type": "display_data"
    }
   ],
   "source": [
    "# Check the distribution of labels are same in train, valid and test dataset.\n",
    "fig, axes = plt.subplots(1, 3, figsize=(18, 5))\n",
    "sns.countplot(ax=axes[0], x=y_train)\n",
    "axes[0].set_title(\"Training Set\")\n",
    "axes[0].set_xlabel(\"Class Labels\")\n",
    "axes[0].set_ylabel(\"Count\")\n",
    "\n",
    "sns.countplot(ax=axes[1], x=y_valid)\n",
    "axes[1].set_title(\"Validation Set\")\n",
    "axes[1].set_xlabel(\"Class Labels\")\n",
    "axes[1].set_ylabel(\"Count\")\n",
    "\n",
    "sns.countplot(ax=axes[2], x=y_test)\n",
    "axes[2].set_title(\"Test Set\")\n",
    "axes[2].set_xlabel(\"Class Labels\")\n",
    "axes[2].set_ylabel(\"Count\")\n",
    "\n",
    "plt.tight_layout()\n",
    "plt.show()\n"
   ]
  },
  {
   "cell_type": "code",
   "execution_count": 14,
   "id": "6eb90654",
   "metadata": {},
   "outputs": [
    {
     "name": "stdout",
     "output_type": "stream",
     "text": [
      "X_train_tensor shape: torch.Size([536, 8])\n",
      "X_valid_tensor shape: torch.Size([116, 8])\n",
      "X_test_tensor shape: torch.Size([116, 8])\n"
     ]
    }
   ],
   "source": [
    "# Convert dataset into tensor for pytorch\n",
    "X_train_tensor = torch.tensor(X_train.toarray(), dtype=torch.float32)\n",
    "X_valid_tensor = torch.tensor(X_valid.toarray(), dtype=torch.float32)\n",
    "X_test_tensor = torch.tensor(X_test.toarray(), dtype=torch.float32)\n",
    "y_train_tensor = torch.tensor(y_train, dtype=torch.float32)\n",
    "y_valid_tensor = torch.tensor(y_valid, dtype=torch.float32)\n",
    "y_test_tensor = torch.tensor(y_test, dtype=torch.float32)\n",
    "\n",
    "print(f\"X_train_tensor shape: {X_train_tensor.shape}\")\n",
    "print(f\"X_valid_tensor shape: {X_valid_tensor.shape}\")\n",
    "print(f\"X_test_tensor shape: {X_test_tensor.shape}\")"
   ]
  },
  {
   "cell_type": "markdown",
   "id": "9d970704",
   "metadata": {},
   "source": [
    "### 3 Baseline"
   ]
  },
  {
   "cell_type": "code",
   "execution_count": 15,
   "id": "e940a365",
   "metadata": {},
   "outputs": [],
   "source": [
    "class Perceptron(nn.Module):\n",
    "    def __init__(self, input_dim):\n",
    "        super(Perceptron, self).__init__()\n",
    "        self.fc = nn.Linear(input_dim, 1)# Define a linear layer which has the same dimension with input\n",
    "\n",
    "    def forward(self, x):\n",
    "        return torch.sigmoid(self.fc(x))\n",
    "\n",
    "input_dim = X_train_tensor.shape[1]\n",
    "model = Perceptron(input_dim)\n",
    "\n",
    "criterion = nn.BCELoss()  \n",
    "optimizer = optim.SGD(model.parameters(), lr=0.01)"
   ]
  },
  {
   "cell_type": "code",
   "execution_count": 16,
   "id": "e5b33b9d",
   "metadata": {},
   "outputs": [],
   "source": [
    "# Create dataset and dataloader\n",
    "dataset = TensorDataset(X_train_tensor, y_train_tensor)\n",
    "dataloader = DataLoader(dataset, batch_size=32, shuffle=True)"
   ]
  },
  {
   "cell_type": "code",
   "execution_count": 17,
   "id": "573cc907",
   "metadata": {},
   "outputs": [],
   "source": [
    "# Define a function to train the model\n",
    "def model_train(model, num_epochs, criterion, optimizer, dataloader):\n",
    "    for epoch in range(num_epochs):\n",
    "        for X_batch, y_batch in dataloader:\n",
    "            outputs = model(X_batch).squeeze()\n",
    "            loss = criterion(outputs, y_batch)\n",
    "\n",
    "            # Backpropagation and optimization\n",
    "            optimizer.zero_grad()\n",
    "            loss.backward()\n",
    "            optimizer.step()\n",
    "\n",
    "        if (epoch+1) % 10 == 0:\n",
    "            print(f'Epoch [{epoch+1}/{num_epochs}], Loss: {loss.item():.4f}')\n",
    "            \n",
    "    return model"
   ]
  },
  {
   "cell_type": "code",
   "execution_count": 18,
   "id": "7adec520",
   "metadata": {},
   "outputs": [],
   "source": [
    "# Define a function to test the model\n",
    "def test_model(model, X_test_tensor, y_test_tensor):\n",
    "    with torch.no_grad():\n",
    "        outputs = model(X_test_tensor).squeeze()\n",
    "        predicted = (outputs > 0.5).float()  # Convert probabilities to class labels (0 or 1)\n",
    "        accuracy = (predicted == y_test_tensor).sum().item() / y_test_tensor.size(0)\n",
    "        return accuracy"
   ]
  },
  {
   "cell_type": "code",
   "execution_count": 19,
   "id": "da2a7b38",
   "metadata": {},
   "outputs": [
    {
     "name": "stdout",
     "output_type": "stream",
     "text": [
      "Epoch [10/50], Loss: 0.6220\n",
      "Epoch [20/50], Loss: 0.5860\n",
      "Epoch [30/50], Loss: 0.5855\n",
      "Epoch [40/50], Loss: 0.5821\n",
      "Epoch [50/50], Loss: 0.5736\n"
     ]
    }
   ],
   "source": [
    "num_epochs = 50\n",
    "model = model_train(model, num_epochs, criterion, optimizer, dataloader)"
   ]
  },
  {
   "cell_type": "code",
   "execution_count": 20,
   "id": "c54d63d8",
   "metadata": {},
   "outputs": [
    {
     "name": "stdout",
     "output_type": "stream",
     "text": [
      "Baseline Accuracy: 63.79%\n"
     ]
    }
   ],
   "source": [
    "accuracy_baseline = test_model(model, X_valid_tensor, y_valid_tensor)\n",
    "print(f'Baseline Accuracy: {accuracy_baseline * 100:.2f}%')"
   ]
  },
  {
   "cell_type": "markdown",
   "id": "c38e6cfe",
   "metadata": {},
   "source": [
    "### 3 Optimizition"
   ]
  },
  {
   "cell_type": "code",
   "execution_count": 21,
   "id": "87b361e6",
   "metadata": {},
   "outputs": [],
   "source": [
    "# Find the best combination of following settings\n",
    "optimizers = ['SGD', 'Adam', 'RMSprop']\n",
    "learning_rates = [0.01, 0.001, 0.0001]\n",
    "epochs = [50, 100, 150]\n",
    "\n",
    "# Define a function to get the optimizer and parameters.\n",
    "def get_optimizer(optimizer_name, model, learning_rate):\n",
    "    if optimizer_name == 'SGD':\n",
    "        return optim.SGD(model.parameters(), lr=learning_rate)\n",
    "    elif optimizer_name == 'Adam':\n",
    "        return optim.Adam(model.parameters(), lr=learning_rate)\n",
    "    elif optimizer_name == 'RMSprop':\n",
    "        return optim.RMSprop(model.parameters(), lr=learning_rate)\n",
    "    else:\n",
    "        raise ValueError(f\"Optimizer {optimizer_name} not recognized\")\n"
   ]
  },
  {
   "cell_type": "code",
   "execution_count": 22,
   "id": "f0f5b21e",
   "metadata": {},
   "outputs": [
    {
     "name": "stdout",
     "output_type": "stream",
     "text": [
      "Epoch [10/50], Loss: 0.5465\n",
      "Epoch [20/50], Loss: 0.7035\n",
      "Epoch [30/50], Loss: 0.6377\n",
      "Epoch [40/50], Loss: 0.5171\n",
      "Epoch [50/50], Loss: 0.5191\n",
      "[Model 1]Optimizer: SGD, Learning Rate: 0.01, Epochs: 50, Accuracy: 0.6379\n",
      "Epoch [10/100], Loss: 0.7360\n",
      "Epoch [20/100], Loss: 0.6532\n",
      "Epoch [30/100], Loss: 0.5945\n",
      "Epoch [40/100], Loss: 0.5949\n",
      "Epoch [50/100], Loss: 0.5485\n",
      "Epoch [60/100], Loss: 0.5475\n",
      "Epoch [70/100], Loss: 0.4967\n",
      "Epoch [80/100], Loss: 0.6672\n",
      "Epoch [90/100], Loss: 0.4993\n",
      "Epoch [100/100], Loss: 0.6461\n",
      "[Model 2]Optimizer: SGD, Learning Rate: 0.01, Epochs: 100, Accuracy: 0.6638\n",
      "Epoch [10/150], Loss: 0.5817\n",
      "Epoch [20/150], Loss: 0.6133\n",
      "Epoch [30/150], Loss: 0.6292\n",
      "Epoch [40/150], Loss: 0.5632\n",
      "Epoch [50/150], Loss: 0.6317\n",
      "Epoch [60/150], Loss: 0.5404\n",
      "Epoch [70/150], Loss: 0.5441\n",
      "Epoch [80/150], Loss: 0.5384\n",
      "Epoch [90/150], Loss: 0.5992\n",
      "Epoch [100/150], Loss: 0.5496\n",
      "Epoch [110/150], Loss: 0.6790\n",
      "Epoch [120/150], Loss: 0.5085\n",
      "Epoch [130/150], Loss: 0.6228\n",
      "Epoch [140/150], Loss: 0.5312\n",
      "Epoch [150/150], Loss: 0.4822\n",
      "[Model 3]Optimizer: SGD, Learning Rate: 0.01, Epochs: 150, Accuracy: 0.7241\n",
      "Epoch [10/50], Loss: 0.6766\n",
      "Epoch [20/50], Loss: 0.6954\n",
      "Epoch [30/50], Loss: 0.6642\n",
      "Epoch [40/50], Loss: 0.6906\n",
      "Epoch [50/50], Loss: 0.6267\n",
      "[Model 4]Optimizer: SGD, Learning Rate: 0.001, Epochs: 50, Accuracy: 0.6034\n",
      "Epoch [10/100], Loss: 0.6141\n",
      "Epoch [20/100], Loss: 0.6374\n",
      "Epoch [30/100], Loss: 0.6086\n",
      "Epoch [40/100], Loss: 0.5703\n",
      "Epoch [50/100], Loss: 0.5835\n",
      "Epoch [60/100], Loss: 0.5724\n",
      "Epoch [70/100], Loss: 0.5498\n",
      "Epoch [80/100], Loss: 0.6223\n",
      "Epoch [90/100], Loss: 0.5451\n",
      "Epoch [100/100], Loss: 0.6268\n",
      "[Model 5]Optimizer: SGD, Learning Rate: 0.001, Epochs: 100, Accuracy: 0.6293\n",
      "Epoch [10/150], Loss: 0.6837\n",
      "Epoch [20/150], Loss: 0.7010\n",
      "Epoch [30/150], Loss: 0.6719\n",
      "Epoch [40/150], Loss: 0.6747\n",
      "Epoch [50/150], Loss: 0.6777\n",
      "Epoch [60/150], Loss: 0.6651\n",
      "Epoch [70/150], Loss: 0.6579\n",
      "Epoch [80/150], Loss: 0.6415\n",
      "Epoch [90/150], Loss: 0.6252\n",
      "Epoch [100/150], Loss: 0.7300\n",
      "Epoch [110/150], Loss: 0.6037\n",
      "Epoch [120/150], Loss: 0.6408\n",
      "Epoch [130/150], Loss: 0.5802\n",
      "Epoch [140/150], Loss: 0.6584\n",
      "Epoch [150/150], Loss: 0.5162\n",
      "[Model 6]Optimizer: SGD, Learning Rate: 0.001, Epochs: 150, Accuracy: 0.6121\n",
      "Epoch [10/50], Loss: 0.9137\n",
      "Epoch [20/50], Loss: 0.8671\n",
      "Epoch [30/50], Loss: 0.8707\n",
      "Epoch [40/50], Loss: 0.8768\n",
      "Epoch [50/50], Loss: 0.8845\n",
      "[Model 7]Optimizer: SGD, Learning Rate: 0.0001, Epochs: 50, Accuracy: 0.3793\n",
      "Epoch [10/100], Loss: 0.6234\n",
      "Epoch [20/100], Loss: 0.6093\n",
      "Epoch [30/100], Loss: 0.6648\n",
      "Epoch [40/100], Loss: 0.5815\n",
      "Epoch [50/100], Loss: 0.6872\n",
      "Epoch [60/100], Loss: 0.6394\n",
      "Epoch [70/100], Loss: 0.5943\n",
      "Epoch [80/100], Loss: 0.6180\n",
      "Epoch [90/100], Loss: 0.5926\n",
      "Epoch [100/100], Loss: 0.5569\n",
      "[Model 8]Optimizer: SGD, Learning Rate: 0.0001, Epochs: 100, Accuracy: 0.6207\n",
      "Epoch [10/150], Loss: 0.7711\n",
      "Epoch [20/150], Loss: 0.8209\n",
      "Epoch [30/150], Loss: 0.8260\n",
      "Epoch [40/150], Loss: 0.8276\n",
      "Epoch [50/150], Loss: 0.7781\n",
      "Epoch [60/150], Loss: 0.8156\n",
      "Epoch [70/150], Loss: 0.7610\n",
      "Epoch [80/150], Loss: 0.7841\n",
      "Epoch [90/150], Loss: 0.7081\n",
      "Epoch [100/150], Loss: 0.7544\n",
      "Epoch [110/150], Loss: 0.7767\n",
      "Epoch [120/150], Loss: 0.8260\n",
      "Epoch [130/150], Loss: 0.7480\n",
      "Epoch [140/150], Loss: 0.7626\n",
      "Epoch [150/150], Loss: 0.7515\n",
      "[Model 9]Optimizer: SGD, Learning Rate: 0.0001, Epochs: 150, Accuracy: 0.4138\n",
      "Epoch [10/50], Loss: 0.5069\n",
      "Epoch [20/50], Loss: 0.4126\n",
      "Epoch [30/50], Loss: 0.4944\n",
      "Epoch [40/50], Loss: 0.4588\n",
      "Epoch [50/50], Loss: 0.5647\n",
      "[Model 10]Optimizer: Adam, Learning Rate: 0.01, Epochs: 50, Accuracy: 0.7069\n",
      "Epoch [10/100], Loss: 0.6116\n",
      "Epoch [20/100], Loss: 0.4929\n",
      "Epoch [30/100], Loss: 0.2722\n",
      "Epoch [40/100], Loss: 0.4453\n",
      "Epoch [50/100], Loss: 0.3937\n",
      "Epoch [60/100], Loss: 0.3596\n",
      "Epoch [70/100], Loss: 0.3856\n",
      "Epoch [80/100], Loss: 0.4492\n",
      "Epoch [90/100], Loss: 0.4960\n",
      "Epoch [100/100], Loss: 0.5010\n",
      "[Model 11]Optimizer: Adam, Learning Rate: 0.01, Epochs: 100, Accuracy: 0.7155\n",
      "Epoch [10/150], Loss: 0.4556\n",
      "Epoch [20/150], Loss: 0.5541\n",
      "Epoch [30/150], Loss: 0.6073\n",
      "Epoch [40/150], Loss: 0.4655\n",
      "Epoch [50/150], Loss: 0.5166\n",
      "Epoch [60/150], Loss: 0.2898\n",
      "Epoch [70/150], Loss: 0.5304\n",
      "Epoch [80/150], Loss: 0.2787\n",
      "Epoch [90/150], Loss: 0.1729\n",
      "Epoch [100/150], Loss: 0.4746\n",
      "Epoch [110/150], Loss: 0.6612\n",
      "Epoch [120/150], Loss: 0.3337\n",
      "Epoch [130/150], Loss: 0.4729\n",
      "Epoch [140/150], Loss: 0.5590\n",
      "Epoch [150/150], Loss: 0.4750\n",
      "[Model 12]Optimizer: Adam, Learning Rate: 0.01, Epochs: 150, Accuracy: 0.7155\n",
      "Epoch [10/50], Loss: 0.6334\n",
      "Epoch [20/50], Loss: 0.5861\n",
      "Epoch [30/50], Loss: 0.5475\n",
      "Epoch [40/50], Loss: 0.7201\n",
      "Epoch [50/50], Loss: 0.6054\n",
      "[Model 13]Optimizer: Adam, Learning Rate: 0.001, Epochs: 50, Accuracy: 0.6379\n",
      "Epoch [10/100], Loss: 0.7254\n",
      "Epoch [20/100], Loss: 0.6673\n",
      "Epoch [30/100], Loss: 0.6180\n",
      "Epoch [40/100], Loss: 0.6042\n",
      "Epoch [50/100], Loss: 0.6072\n",
      "Epoch [60/100], Loss: 0.5397\n",
      "Epoch [70/100], Loss: 0.5419\n",
      "Epoch [80/100], Loss: 0.5763\n",
      "Epoch [90/100], Loss: 0.5629\n",
      "Epoch [100/100], Loss: 0.4436\n",
      "[Model 14]Optimizer: Adam, Learning Rate: 0.001, Epochs: 100, Accuracy: 0.7328\n",
      "Epoch [10/150], Loss: 0.6097\n",
      "Epoch [20/150], Loss: 0.7436\n",
      "Epoch [30/150], Loss: 0.7492\n",
      "Epoch [40/150], Loss: 0.5932\n",
      "Epoch [50/150], Loss: 0.6203\n",
      "Epoch [60/150], Loss: 0.4855\n",
      "Epoch [70/150], Loss: 0.5362\n",
      "Epoch [80/150], Loss: 0.4702\n",
      "Epoch [90/150], Loss: 0.4599\n",
      "Epoch [100/150], Loss: 0.4354\n",
      "Epoch [110/150], Loss: 0.3471\n",
      "Epoch [120/150], Loss: 0.5020\n",
      "Epoch [130/150], Loss: 0.4417\n",
      "Epoch [140/150], Loss: 0.4913\n",
      "Epoch [150/150], Loss: 0.4813\n",
      "[Model 15]Optimizer: Adam, Learning Rate: 0.001, Epochs: 150, Accuracy: 0.7500\n",
      "Epoch [10/50], Loss: 0.6534\n",
      "Epoch [20/50], Loss: 0.5853\n",
      "Epoch [30/50], Loss: 0.5474\n",
      "Epoch [40/50], Loss: 0.6031\n",
      "Epoch [50/50], Loss: 0.5485\n",
      "[Model 16]Optimizer: Adam, Learning Rate: 0.0001, Epochs: 50, Accuracy: 0.6207\n",
      "Epoch [10/100], Loss: 0.8034\n",
      "Epoch [20/100], Loss: 0.9290\n",
      "Epoch [30/100], Loss: 0.8371\n",
      "Epoch [40/100], Loss: 0.6972\n",
      "Epoch [50/100], Loss: 0.8315\n",
      "Epoch [60/100], Loss: 0.7205\n",
      "Epoch [70/100], Loss: 0.7349\n",
      "Epoch [80/100], Loss: 0.7647\n",
      "Epoch [90/100], Loss: 0.7052\n",
      "Epoch [100/100], Loss: 0.6504\n",
      "[Model 17]Optimizer: Adam, Learning Rate: 0.0001, Epochs: 100, Accuracy: 0.3793\n",
      "Epoch [10/150], Loss: 0.6380\n",
      "Epoch [20/150], Loss: 0.6573\n",
      "Epoch [30/150], Loss: 0.6795\n",
      "Epoch [40/150], Loss: 0.5898\n",
      "Epoch [50/150], Loss: 0.6562\n",
      "Epoch [60/150], Loss: 0.5716\n",
      "Epoch [70/150], Loss: 0.6981\n",
      "Epoch [80/150], Loss: 0.5588\n",
      "Epoch [90/150], Loss: 0.4752\n",
      "Epoch [100/150], Loss: 0.6790\n",
      "Epoch [110/150], Loss: 0.6166\n",
      "Epoch [120/150], Loss: 0.5590\n",
      "Epoch [130/150], Loss: 0.5594\n",
      "Epoch [140/150], Loss: 0.7442\n",
      "Epoch [150/150], Loss: 0.5218\n",
      "[Model 18]Optimizer: Adam, Learning Rate: 0.0001, Epochs: 150, Accuracy: 0.6207\n",
      "Epoch [10/50], Loss: 0.4308\n",
      "Epoch [20/50], Loss: 0.3420\n",
      "Epoch [30/50], Loss: 0.6236\n",
      "Epoch [40/50], Loss: 0.5785\n",
      "Epoch [50/50], Loss: 0.5537\n",
      "[Model 19]Optimizer: RMSprop, Learning Rate: 0.01, Epochs: 50, Accuracy: 0.7155\n",
      "Epoch [10/100], Loss: 0.4926\n",
      "Epoch [20/100], Loss: 0.5123\n",
      "Epoch [30/100], Loss: 0.4694\n",
      "Epoch [40/100], Loss: 0.4479\n",
      "Epoch [50/100], Loss: 0.5785\n",
      "Epoch [60/100], Loss: 0.5734\n",
      "Epoch [70/100], Loss: 0.4292\n",
      "Epoch [80/100], Loss: 0.5018\n",
      "Epoch [90/100], Loss: 0.4746\n",
      "Epoch [100/100], Loss: 0.5484\n",
      "[Model 20]Optimizer: RMSprop, Learning Rate: 0.01, Epochs: 100, Accuracy: 0.7155\n",
      "Epoch [10/150], Loss: 0.5202\n",
      "Epoch [20/150], Loss: 0.4890\n",
      "Epoch [30/150], Loss: 0.7009\n",
      "Epoch [40/150], Loss: 0.7177\n",
      "Epoch [50/150], Loss: 0.3087\n",
      "Epoch [60/150], Loss: 0.6347\n",
      "Epoch [70/150], Loss: 0.3649\n",
      "Epoch [80/150], Loss: 0.3873\n",
      "Epoch [90/150], Loss: 0.3680\n",
      "Epoch [100/150], Loss: 0.6044\n",
      "Epoch [110/150], Loss: 0.4170\n",
      "Epoch [120/150], Loss: 0.3768\n",
      "Epoch [130/150], Loss: 0.4950\n",
      "Epoch [140/150], Loss: 0.4408\n",
      "Epoch [150/150], Loss: 0.4532\n",
      "[Model 21]Optimizer: RMSprop, Learning Rate: 0.01, Epochs: 150, Accuracy: 0.7155\n",
      "Epoch [10/50], Loss: 0.5523\n",
      "Epoch [20/50], Loss: 0.4855\n",
      "Epoch [30/50], Loss: 0.5206\n",
      "Epoch [40/50], Loss: 0.5452\n",
      "Epoch [50/50], Loss: 0.5436\n",
      "[Model 22]Optimizer: RMSprop, Learning Rate: 0.001, Epochs: 50, Accuracy: 0.7241\n",
      "Epoch [10/100], Loss: 0.5948\n",
      "Epoch [20/100], Loss: 0.5962\n",
      "Epoch [30/100], Loss: 0.5506\n",
      "Epoch [40/100], Loss: 0.6239\n",
      "Epoch [50/100], Loss: 0.6425\n",
      "Epoch [60/100], Loss: 0.5430\n",
      "Epoch [70/100], Loss: 0.7018\n",
      "Epoch [80/100], Loss: 0.5748\n",
      "Epoch [90/100], Loss: 0.5363\n"
     ]
    },
    {
     "name": "stdout",
     "output_type": "stream",
     "text": [
      "Epoch [100/100], Loss: 0.3549\n",
      "[Model 23]Optimizer: RMSprop, Learning Rate: 0.001, Epochs: 100, Accuracy: 0.7155\n",
      "Epoch [10/150], Loss: 0.5768\n",
      "Epoch [20/150], Loss: 0.5733\n",
      "Epoch [30/150], Loss: 0.5567\n",
      "Epoch [40/150], Loss: 0.4485\n",
      "Epoch [50/150], Loss: 0.5225\n",
      "Epoch [60/150], Loss: 0.4891\n",
      "Epoch [70/150], Loss: 0.3886\n",
      "Epoch [80/150], Loss: 0.5270\n",
      "Epoch [90/150], Loss: 0.4701\n",
      "Epoch [100/150], Loss: 0.4974\n",
      "Epoch [110/150], Loss: 0.5677\n",
      "Epoch [120/150], Loss: 0.4024\n",
      "Epoch [130/150], Loss: 0.6166\n",
      "Epoch [140/150], Loss: 0.5324\n",
      "Epoch [150/150], Loss: 0.4427\n",
      "[Model 24]Optimizer: RMSprop, Learning Rate: 0.001, Epochs: 150, Accuracy: 0.7500\n",
      "Epoch [10/50], Loss: 0.7539\n",
      "Epoch [20/50], Loss: 0.7726\n",
      "Epoch [30/50], Loss: 0.7420\n",
      "Epoch [40/50], Loss: 0.7507\n",
      "Epoch [50/50], Loss: 0.7554\n",
      "[Model 25]Optimizer: RMSprop, Learning Rate: 0.0001, Epochs: 50, Accuracy: 0.3793\n",
      "Epoch [10/100], Loss: 0.7191\n",
      "Epoch [20/100], Loss: 0.6586\n",
      "Epoch [30/100], Loss: 0.6954\n",
      "Epoch [40/100], Loss: 0.6421\n",
      "Epoch [50/100], Loss: 0.6498\n",
      "Epoch [60/100], Loss: 0.5830\n",
      "Epoch [70/100], Loss: 0.6720\n",
      "Epoch [80/100], Loss: 0.5862\n",
      "Epoch [90/100], Loss: 0.6659\n",
      "Epoch [100/100], Loss: 0.6027\n",
      "[Model 26]Optimizer: RMSprop, Learning Rate: 0.0001, Epochs: 100, Accuracy: 0.6121\n",
      "Epoch [10/150], Loss: 0.5618\n",
      "Epoch [20/150], Loss: 0.6371\n",
      "Epoch [30/150], Loss: 0.5308\n",
      "Epoch [40/150], Loss: 0.6225\n",
      "Epoch [50/150], Loss: 0.6465\n",
      "Epoch [60/150], Loss: 0.6923\n",
      "Epoch [70/150], Loss: 0.6568\n",
      "Epoch [80/150], Loss: 0.6896\n",
      "Epoch [90/150], Loss: 0.6314\n",
      "Epoch [100/150], Loss: 0.6242\n",
      "Epoch [110/150], Loss: 0.6705\n",
      "Epoch [120/150], Loss: 0.6578\n",
      "Epoch [130/150], Loss: 0.6010\n",
      "Epoch [140/150], Loss: 0.5855\n",
      "Epoch [150/150], Loss: 0.6350\n",
      "[Model 27]Optimizer: RMSprop, Learning Rate: 0.0001, Epochs: 150, Accuracy: 0.6207\n"
     ]
    }
   ],
   "source": [
    "# Initialize best model\n",
    "best_accuracy = 0\n",
    "best_params = None\n",
    "best_model = None\n",
    "results = dict()\n",
    "n = 0\n",
    "\n",
    "for optimizer_name in optimizers:\n",
    "    for lr in learning_rates:\n",
    "        for num_epochs in epochs:\n",
    "            \n",
    "            n += 1\n",
    "            num_model = \"Model \" + str(n)\n",
    "            \n",
    "            input_dim = X_train_tensor.shape[1]\n",
    "            model = Perceptron(input_dim)\n",
    "            optimizer = get_optimizer(optimizer_name, model, lr)\n",
    "\n",
    "            model = model_train(model, num_epochs, criterion, optimizer, dataloader)\n",
    "            accuracy = test_model(model, X_valid_tensor, y_valid_tensor)\n",
    "            \n",
    "            results[num_model]=[optimizer_name, lr, num_epochs, accuracy]\n",
    "\n",
    "            print(f\"[{num_model}]Optimizer: {optimizer_name}, Learning Rate: {lr}, Epochs: {num_epochs}, Accuracy: {accuracy:.4f}\")\n",
    "\n",
    "            # Update the best model\n",
    "            if accuracy > best_accuracy:\n",
    "                best_accuracy = accuracy\n",
    "                best_params = {'optimizer': optimizer_name, 'learning_rate': lr, 'num_epochs': num_epochs}\n",
    "                best_model = model"
   ]
  },
  {
   "cell_type": "code",
   "execution_count": 23,
   "id": "0d432543",
   "metadata": {},
   "outputs": [
    {
     "name": "stdout",
     "output_type": "stream",
     "text": [
      "Best Params: {'optimizer': 'Adam', 'learning_rate': 0.001, 'num_epochs': 150}, Best Accuracy: 0.7500\n"
     ]
    }
   ],
   "source": [
    "print(f\"Best Params: {best_params}, Best Accuracy: {best_accuracy:.4f}\")"
   ]
  },
  {
   "cell_type": "code",
   "execution_count": 24,
   "id": "7cabb257",
   "metadata": {},
   "outputs": [
    {
     "data": {
      "text/plain": [
       "{'Model 1': ['SGD', 0.01, 50, 0.6379310344827587],\n",
       " 'Model 2': ['SGD', 0.01, 100, 0.6637931034482759],\n",
       " 'Model 3': ['SGD', 0.01, 150, 0.7241379310344828],\n",
       " 'Model 4': ['SGD', 0.001, 50, 0.603448275862069],\n",
       " 'Model 5': ['SGD', 0.001, 100, 0.6293103448275862],\n",
       " 'Model 6': ['SGD', 0.001, 150, 0.6120689655172413],\n",
       " 'Model 7': ['SGD', 0.0001, 50, 0.3793103448275862],\n",
       " 'Model 8': ['SGD', 0.0001, 100, 0.6206896551724138],\n",
       " 'Model 9': ['SGD', 0.0001, 150, 0.41379310344827586],\n",
       " 'Model 10': ['Adam', 0.01, 50, 0.7068965517241379],\n",
       " 'Model 11': ['Adam', 0.01, 100, 0.7155172413793104],\n",
       " 'Model 12': ['Adam', 0.01, 150, 0.7155172413793104],\n",
       " 'Model 13': ['Adam', 0.001, 50, 0.6379310344827587],\n",
       " 'Model 14': ['Adam', 0.001, 100, 0.7327586206896551],\n",
       " 'Model 15': ['Adam', 0.001, 150, 0.75],\n",
       " 'Model 16': ['Adam', 0.0001, 50, 0.6206896551724138],\n",
       " 'Model 17': ['Adam', 0.0001, 100, 0.3793103448275862],\n",
       " 'Model 18': ['Adam', 0.0001, 150, 0.6206896551724138],\n",
       " 'Model 19': ['RMSprop', 0.01, 50, 0.7155172413793104],\n",
       " 'Model 20': ['RMSprop', 0.01, 100, 0.7155172413793104],\n",
       " 'Model 21': ['RMSprop', 0.01, 150, 0.7155172413793104],\n",
       " 'Model 22': ['RMSprop', 0.001, 50, 0.7241379310344828],\n",
       " 'Model 23': ['RMSprop', 0.001, 100, 0.7155172413793104],\n",
       " 'Model 24': ['RMSprop', 0.001, 150, 0.75],\n",
       " 'Model 25': ['RMSprop', 0.0001, 50, 0.3793103448275862],\n",
       " 'Model 26': ['RMSprop', 0.0001, 100, 0.6120689655172413],\n",
       " 'Model 27': ['RMSprop', 0.0001, 150, 0.6206896551724138]}"
      ]
     },
     "execution_count": 24,
     "metadata": {},
     "output_type": "execute_result"
    }
   ],
   "source": [
    "results"
   ]
  },
  {
   "cell_type": "markdown",
   "id": "b2ee704d",
   "metadata": {},
   "source": [
    "Add penalty-Optimization"
   ]
  },
  {
   "cell_type": "code",
   "execution_count": 25,
   "id": "9a6c4e08",
   "metadata": {},
   "outputs": [
    {
     "name": "stdout",
     "output_type": "stream",
     "text": [
      "Epoch [10/150], Loss: 0.6125\n",
      "Epoch [20/150], Loss: 0.6253\n",
      "Epoch [30/150], Loss: 0.6440\n",
      "Epoch [40/150], Loss: 0.5674\n",
      "Epoch [50/150], Loss: 0.5616\n",
      "Epoch [60/150], Loss: 0.5291\n",
      "Epoch [70/150], Loss: 0.5350\n",
      "Epoch [80/150], Loss: 0.6631\n",
      "Epoch [90/150], Loss: 0.4646\n",
      "Epoch [100/150], Loss: 0.6572\n",
      "Epoch [110/150], Loss: 0.6166\n",
      "Epoch [120/150], Loss: 0.5335\n",
      "Epoch [130/150], Loss: 0.5611\n",
      "Epoch [140/150], Loss: 0.5377\n",
      "Epoch [150/150], Loss: 0.4913\n",
      "[Model 28] Optimizer: Adam, Learning Rate: 0.001, Epochs: 150, weight_decay: 0.1, Accuracy: 0.6466\n",
      "Epoch [10/150], Loss: 0.6471\n",
      "Epoch [20/150], Loss: 0.5577\n",
      "Epoch [30/150], Loss: 0.6666\n",
      "Epoch [40/150], Loss: 0.5292\n",
      "Epoch [50/150], Loss: 0.4974\n",
      "Epoch [60/150], Loss: 0.5246\n",
      "Epoch [70/150], Loss: 0.5228\n",
      "Epoch [80/150], Loss: 0.4285\n",
      "Epoch [90/150], Loss: 0.5204\n",
      "Epoch [100/150], Loss: 0.4102\n",
      "Epoch [110/150], Loss: 0.6551\n",
      "Epoch [120/150], Loss: 0.5025\n",
      "Epoch [130/150], Loss: 0.5544\n",
      "Epoch [140/150], Loss: 0.4310\n",
      "Epoch [150/150], Loss: 0.4923\n",
      "[Model 29] Optimizer: Adam, Learning Rate: 0.001, Epochs: 150, weight_decay: 0.005, Accuracy: 0.7414\n",
      "Epoch [10/150], Loss: 0.7003\n",
      "Epoch [20/150], Loss: 0.5818\n",
      "Epoch [30/150], Loss: 0.5867\n",
      "Epoch [40/150], Loss: 0.5647\n",
      "Epoch [50/150], Loss: 0.5458\n",
      "Epoch [60/150], Loss: 0.5433\n",
      "Epoch [70/150], Loss: 0.5578\n",
      "Epoch [80/150], Loss: 0.5013\n",
      "Epoch [90/150], Loss: 0.5085\n",
      "Epoch [100/150], Loss: 0.4614\n",
      "Epoch [110/150], Loss: 0.4944\n",
      "Epoch [120/150], Loss: 0.5714\n",
      "Epoch [130/150], Loss: 0.5275\n",
      "Epoch [140/150], Loss: 0.5098\n",
      "Epoch [150/150], Loss: 0.5040\n",
      "[Model 30] Optimizer: Adam, Learning Rate: 0.001, Epochs: 150, weight_decay: 0.001, Accuracy: 0.7241\n"
     ]
    }
   ],
   "source": [
    "epoch = best_params['num_epochs']\n",
    "lr = best_params['learning_rate']\n",
    "opt_name = best_params['optimizer']\n",
    "\n",
    "for decay in [0.1, 0.005, 0.001]:\n",
    "    n += 1\n",
    "    num_model = \"Model \" + str(n)    \n",
    "    input_dim = X_train_tensor.shape[1]\n",
    "    model = Perceptron(input_dim)\n",
    "    \n",
    "    if opt_name == 'SGD':\n",
    "        optimizer = torch.optim.SGD(model.parameters(), lr=lr, weight_decay=decay)\n",
    "    elif opt_name == 'Adam':\n",
    "        optimizer = torch.optim.Adam(model.parameters(), lr=lr, weight_decay=decay)\n",
    "    elif opt_name == 'RMSprop':\n",
    "        optimizer = torch.optim.RMSprop(model.parameters(), lr=lr, weight_decay=decay)\n",
    "    else:\n",
    "        raise ValueError(f\"Optimizer {opt_name} not recognized\")\n",
    "\n",
    "    model_opt = model_train(model, epoch, criterion, optimizer, dataloader)\n",
    "    accuracy_opt = test_model(model_opt, X_valid_tensor, y_valid_tensor)\n",
    "    \n",
    "    results[num_model] = [opt_name, decay, accuracy_opt]\n",
    "\n",
    "    \n",
    "    print(f\"[{num_model}] Optimizer: {opt_name}, Learning Rate: {lr}, Epochs: {epoch}, weight_decay: {decay}, Accuracy: {accuracy_opt:.4f}\")\n",
    "    \n",
    "    if accuracy_opt > best_accuracy:\n",
    "        best_accuracy = accuracy_opt\n",
    "        best_params = {'optimizer': opt_name, 'learning_rate': lr, 'num_epochs':epochs, 'L2 regularisation':decay}\n",
    "        best_model = model_opt\n"
   ]
  },
  {
   "cell_type": "code",
   "execution_count": 26,
   "id": "70c0bf23",
   "metadata": {},
   "outputs": [
    {
     "name": "stdout",
     "output_type": "stream",
     "text": [
      "Best Params: {'optimizer': 'Adam', 'learning_rate': 0.001, 'num_epochs': 150}, Best Accuracy: 0.7500\n"
     ]
    }
   ],
   "source": [
    "print(f\"Best Params: {best_params}, Best Accuracy: {best_accuracy:.4f}\")"
   ]
  },
  {
   "cell_type": "markdown",
   "id": "8a4177ea",
   "metadata": {},
   "source": [
    "## 4 Choose the best model"
   ]
  },
  {
   "cell_type": "code",
   "execution_count": 27,
   "id": "5bd85abd",
   "metadata": {},
   "outputs": [],
   "source": [
    "best_opt_name = best_params['optimizer']\n",
    "best_learning_rate = best_params['learning_rate']\n",
    "best_num_epochs = best_params['num_epochs']\n",
    "\n",
    "input_dim = X_train_tensor.shape[1]\n",
    "best_model = Perceptron(input_dim)  \n",
    "\n",
    "X_trainfull_tensor = torch.tensor(X_train_full.toarray(), dtype=torch.float32)\n",
    "y_trainfull_tensor = torch.tensor(y_train_full, dtype=torch.float32)\n",
    "\n",
    "full_dataset = TensorDataset(X_trainfull_tensor, y_trainfull_tensor)\n",
    "full_dataloader = DataLoader(dataset, batch_size=32, shuffle=True)\n",
    "\n",
    "\n"
   ]
  },
  {
   "cell_type": "code",
   "execution_count": 28,
   "id": "2117e9fb",
   "metadata": {},
   "outputs": [
    {
     "name": "stdout",
     "output_type": "stream",
     "text": [
      "Epoch [10/150], Loss: 0.5712\n",
      "Epoch [20/150], Loss: 0.5734\n",
      "Epoch [30/150], Loss: 0.5151\n",
      "Epoch [40/150], Loss: 0.5254\n",
      "Epoch [50/150], Loss: 0.6268\n",
      "Epoch [60/150], Loss: 0.5794\n",
      "Epoch [70/150], Loss: 0.5145\n",
      "Epoch [80/150], Loss: 0.4338\n",
      "Epoch [90/150], Loss: 0.4616\n",
      "Epoch [100/150], Loss: 0.4357\n",
      "Epoch [110/150], Loss: 0.5950\n",
      "Epoch [120/150], Loss: 0.5282\n",
      "Epoch [130/150], Loss: 0.3903\n",
      "Epoch [140/150], Loss: 0.5188\n",
      "Epoch [150/150], Loss: 0.4054\n"
     ]
    }
   ],
   "source": [
    "best_optimizer = get_optimizer(best_opt_name, best_model, best_learning_rate)\n",
    "\n",
    "best_model = model_train(best_model, best_num_epochs, criterion, best_optimizer, full_dataloader)\n"
   ]
  },
  {
   "cell_type": "code",
   "execution_count": 29,
   "id": "dc90707a",
   "metadata": {},
   "outputs": [
    {
     "name": "stdout",
     "output_type": "stream",
     "text": [
      "Final Test Accuracy : 73.28%\n"
     ]
    }
   ],
   "source": [
    "test_accuracy = test_model(best_model, X_test_tensor, y_test_tensor)\n",
    "print(f\"Final Test Accuracy : {test_accuracy * 100:.2f}%\")"
   ]
  },
  {
   "cell_type": "code",
   "execution_count": null,
   "id": "086067ad",
   "metadata": {},
   "outputs": [],
   "source": []
  }
 ],
 "metadata": {
  "kernelspec": {
   "display_name": "Python [conda env:pytorch] *",
   "language": "python",
   "name": "conda-env-pytorch-py"
  },
  "language_info": {
   "codemirror_mode": {
    "name": "ipython",
    "version": 3
   },
   "file_extension": ".py",
   "mimetype": "text/x-python",
   "name": "python",
   "nbconvert_exporter": "python",
   "pygments_lexer": "ipython3",
   "version": "3.6.13"
  }
 },
 "nbformat": 4,
 "nbformat_minor": 5
}
